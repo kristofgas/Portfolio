{
 "cells": [
  {
   "cell_type": "markdown",
   "id": "c0d0893c",
   "metadata": {},
   "source": [
    "# Step 5 - Applying weighted distance calculations\n",
    "## Project: Data-driven bicycle networks"
   ]
  },
  {
   "cell_type": "markdown",
   "id": "688bb82c",
   "metadata": {},
   "source": [
    "This notebook is embedding bicycle counts onto the street network of Copenhagen"
   ]
  },
  {
   "cell_type": "markdown",
   "id": "b2409536",
   "metadata": {},
   "source": [
    "## Preliminaries"
   ]
  },
  {
   "cell_type": "markdown",
   "id": "3746af5d",
   "metadata": {},
   "source": [
    "### Parameters"
   ]
  },
  {
   "cell_type": "code",
   "execution_count": 1,
   "id": "c25f44d6",
   "metadata": {},
   "outputs": [
    {
     "name": "stdout",
     "output_type": "stream",
     "text": [
      "Loaded parameters.\n",
      "\n"
     ]
    }
   ],
   "source": [
    "debug = False # If True, will produce plots and/or verbose output to double-check\n",
    "%run -i \"../parameters/parameters.py\""
   ]
  },
  {
   "cell_type": "markdown",
   "id": "e8f284db",
   "metadata": {},
   "source": [
    "### Setup"
   ]
  },
  {
   "cell_type": "code",
   "execution_count": null,
   "id": "f4ae7f90",
   "metadata": {},
   "outputs": [],
   "source": [
    "%run -i path.py\n",
    "#%run -i setup.py\n",
    "%run -i setupCPH.py\n",
    "\n",
    "%load_ext watermark\n",
    "%watermark -n -v -m -g -iv"
   ]
  },
  {
   "cell_type": "markdown",
   "id": "f13047a1",
   "metadata": {},
   "source": [
    "### Functions"
   ]
  },
  {
   "cell_type": "code",
   "execution_count": 3,
   "id": "eee436d8",
   "metadata": {},
   "outputs": [
    {
     "name": "stdout",
     "output_type": "stream",
     "text": [
      "Loaded functions.\n",
      "\n"
     ]
    }
   ],
   "source": [
    "%run -i functions.py"
   ]
  },
  {
   "cell_type": "markdown",
   "id": "a90ca9f2",
   "metadata": {},
   "source": [
    "### Load street network graph from Copenhagen"
   ]
  },
  {
   "cell_type": "code",
   "execution_count": null,
   "id": "46c8032c",
   "metadata": {},
   "outputs": [],
   "source": [
    "G_carall = ox.load_graphml('../../bikenwgrowth_external/data/copenhagen/bikedata/G_carall_graphml.graphml')"
   ]
  },
  {
   "cell_type": "markdown",
   "id": "4f25e00b",
   "metadata": {},
   "source": [
    "## Calculating weighted distances and applying to the street network of Copenhagen"
   ]
  },
  {
   "cell_type": "markdown",
   "id": "ffcbf671",
   "metadata": {},
   "source": [
    "The formula for weighted distances d_W is being utilized"
   ]
  },
  {
   "cell_type": "code",
   "execution_count": null,
   "id": "311374fe",
   "metadata": {},
   "outputs": [],
   "source": [
    "# alpha zero is pop_den_attr\n",
    "#aplha_one is bcount_attr\n",
    "#aplha_half is bcount_pop_den_attr\n",
    "\n",
    "length = list(nx.get_edge_attributes(G_carall, 'length').values())\n",
    "bcount = list(nx.get_edge_attributes(G_carall, 'bcount').values())\n",
    "pop_den = list(nx.get_edge_attributes(G_carall, 'pop_den').values())\n",
    "\n",
    "#Normalise values and convert to fraction\n",
    "length_norm = normalise_list(length.copy())\n",
    "bcount_frac_norm = normalise_list([1/bcount[i] for i in range(len(bcount))])\n",
    "pop_den_frac_norm = normalise_list([1/pop_den[i] for i in range(len(pop_den))])\n",
    "\n",
    "#create df with all attributes\n",
    "edge_attributes = pd.DataFrame({'length':lengths, 'length_norm':length_norm, 'bcount_frac': bcount_frac_norm, 'pop_den_frac': pop_den_frac_norm})\n",
    "\n",
    "#create weighted distance measures and normalise these\n",
    "edge_attributes['alpha_zero'] = normalise_list(0* (edge_attributes['length']*edge_attributes['bcount_frac']) + (1-0)*(edge_attributes['length']*edge_attributes['pop_den_frac']))\n",
    "edge_attributes['alpha_half'] = normalise_list(0.5* (edge_attributes['length']*edge_attributes['bcount_frac']) + (0.5)*(edge_attributes['length']*edge_attributes['pop_den_frac']))\n",
    "edge_attributes['alpha_one'] = normalise_list(1* (edge_attributes['length']*edge_attributes['bcount_frac']) + (0)*(edge_attributes['length']*edge_attributes['pop_den_frac']))\n",
    "\n",
    "# apply to G_carall graph as attributes\n",
    "i=-1\n",
    "for e in G_carall.edges():\n",
    "    i+=1\n",
    "    a,b=e\n",
    "    length_norm = edge_attributes['length_norm'].iloc[i]\n",
    "    alpha_zero = edge_attributes['alpha_zero'].iloc[i]\n",
    "    alpha_half = edge_attributes['alpha_half'].iloc[i]\n",
    "    alpha_one = edge_attributes['alpha_one'].iloc[i]\n",
    "    nx.set_edge_attributes(G_carall, {(a,b,0): {\"length_norm\": length_norm}})\n",
    "    nx.set_edge_attributes(G_carall, {(a,b,0): {\"pop_den_attr\": alpha_zero}})\n",
    "    nx.set_edge_attributes(G_carall, {(a,b,0): {\"bcount_pop_den_attr\": alpha_half}})\n",
    "    nx.set_edge_attributes(G_carall, {(a,b,0): {\"bcount_attr\": alpha_one}})\n",
    "\n",
    "#save graph\n",
    "ox_to_csv(G_carall, PATH[\"data\"] + 'copenhagen' + \"/\", 'copenhagen', 'carall')\n",
    "ox_to_csv(ox.simplify_graph(G_carall), PATH[\"data\"] + 'copenhagen' + \"/\", 'copenhagen', 'carall', \"_simplified\")\n",
    "ox.save_graphml(G_carall, \"../../bikenwgrowth_external/data/copenhagen/bikedata/G_carall_graphml.graphml\")"
   ]
  }
 ],
 "metadata": {
  "kernelspec": {
   "display_name": "OSMNX",
   "language": "python",
   "name": "osmnx"
  },
  "language_info": {
   "codemirror_mode": {
    "name": "ipython",
    "version": 3
   },
   "file_extension": ".py",
   "mimetype": "text/x-python",
   "name": "python",
   "nbconvert_exporter": "python",
   "pygments_lexer": "ipython3",
   "version": "3.8.2"
  }
 },
 "nbformat": 4,
 "nbformat_minor": 5
}
