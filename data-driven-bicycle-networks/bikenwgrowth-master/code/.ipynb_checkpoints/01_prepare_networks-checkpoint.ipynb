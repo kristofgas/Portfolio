{
 "cells": [
  {
   "cell_type": "markdown",
   "metadata": {},
   "source": [
    "# Step 1 - Prepare network data\n",
    "## Project: Data-driven bicycle networks"
   ]
  },
  {
   "cell_type": "markdown",
   "metadata": {},
   "source": [
    "This notebook was developed by Michael Szell, you can find it here:\n",
    "\n",
    "https://github.com/mszell/bikenwgrowth\n",
    "\n",
    "Name: \"01_prepare_networks.ipynb\"\n",
    "\n",
    "This notebook downloads bicycle and street network data sets and prepares them for analysis."
   ]
  },
  {
   "cell_type": "markdown",
   "metadata": {},
   "source": [
    "## Preliminaries"
   ]
  },
  {
   "cell_type": "markdown",
   "metadata": {},
   "source": [
    "### Parameters"
   ]
  },
  {
   "cell_type": "code",
   "execution_count": 2,
   "metadata": {},
   "outputs": [
    {
     "name": "stdout",
     "output_type": "stream",
     "text": [
      "Loaded parameters.\n",
      "\n"
     ]
    }
   ],
   "source": [
    "debug = True # If True, will produce plots and/or verbose output to double-check\n",
    "%run -i \"../parameters/parameters.py\""
   ]
  },
  {
   "cell_type": "markdown",
   "metadata": {},
   "source": [
    "### Setup"
   ]
  },
  {
   "cell_type": "code",
   "execution_count": 3,
   "metadata": {},
   "outputs": [
    {
     "name": "stdout",
     "output_type": "stream",
     "text": [
      "Loaded PATH.\n",
      "\n",
      "Setup finished.\n",
      "\n",
      "Python implementation: CPython\n",
      "Python version       : 3.8.2\n",
      "IPython version      : 8.5.0\n",
      "\n",
      "Compiler    : Clang 9.0.1 \n",
      "OS          : Darwin\n",
      "Release     : 18.7.0\n",
      "Machine     : x86_64\n",
      "Processor   : i386\n",
      "CPU cores   : 8\n",
      "Architecture: 64bit\n",
      "\n",
      "Git hash: b795eaefba9eb6349c319ca07997ebd31e033f57\n",
      "\n",
      "pandas    : 1.4.4\n",
      "geopandas : 0.11.1\n",
      "watermark : 2.3.1\n",
      "numpy     : 1.23.3\n",
      "matplotlib: 3.6.0\n",
      "fiona     : 1.8.21\n",
      "igraph    : 0.9.1\n",
      "csv       : 1.0\n",
      "geojson   : 2.5.0\n",
      "pyproj    : 3.4.0\n",
      "shapely   : 1.8.4\n",
      "osmnx     : 0.16.2\n",
      "sys       : 3.8.2 | packaged by conda-forge | (default, Apr 24 2020, 07:56:27) \n",
      "[Clang 9.0.1 ]\n",
      "networkx  : 2.8.6\n",
      "osgeo     : 3.2.1\n",
      "\n"
     ]
    }
   ],
   "source": [
    "%run -i path.py\n",
    "#%run -i setup.py\n",
    "%run -i setupCPH.py\n",
    "\n",
    "%load_ext watermark\n",
    "%watermark -n -v -m -g -iv\n",
    "import statistics"
   ]
  },
  {
   "cell_type": "markdown",
   "metadata": {},
   "source": [
    "### Functions"
   ]
  },
  {
   "cell_type": "code",
   "execution_count": 4,
   "metadata": {},
   "outputs": [
    {
     "name": "stdout",
     "output_type": "stream",
     "text": [
      "Loaded functions.\n",
      "\n"
     ]
    }
   ],
   "source": [
    "%run -i functions.py"
   ]
  },
  {
   "cell_type": "markdown",
   "metadata": {},
   "source": [
    "## Download and wrangle data"
   ]
  },
  {
   "cell_type": "markdown",
   "metadata": {},
   "source": [
    "### Networks"
   ]
  },
  {
   "cell_type": "code",
   "execution_count": 233,
   "metadata": {},
   "outputs": [
    {
     "data": {
      "application/vnd.jupyter.widget-view+json": {
       "model_id": "8362474758db42f2806212c6ad045dc7",
       "version_major": 2,
       "version_minor": 0
      },
      "text/plain": [
       "Cities:   0%|          | 0/1 [00:00<?, ?it/s]"
      ]
     },
     "metadata": {},
     "output_type": "display_data"
    },
    {
     "data": {
      "application/vnd.jupyter.widget-view+json": {
       "model_id": "718ed8ef25f84848a066d98a39ff0186",
       "version_major": 2,
       "version_minor": 0
      },
      "text/plain": [
       "Networks:   0%|          | 0/10 [00:00<?, ?it/s]"
      ]
     },
     "metadata": {},
     "output_type": "display_data"
    },
    {
     "name": "stderr",
     "output_type": "stream",
     "text": [
      "/Users/Kristof/opt/anaconda3/envs/OSMNX/lib/python3.8/site-packages/osmnx/utils_geo.py:281: ShapelyDeprecationWarning: Iteration over multi-part geometries is deprecated and will be removed in Shapely 2.0. Use the `geoms` property to access the constituent parts of a multi-part geometry.\n",
      "  for polygon in geometry:\n",
      "/Users/Kristof/opt/anaconda3/envs/OSMNX/lib/python3.8/site-packages/osmnx/utils_geo.py:375: ShapelyDeprecationWarning: Iteration over multi-part geometries is deprecated and will be removed in Shapely 2.0. Use the `geoms` property to access the constituent parts of a multi-part geometry.\n",
      "  for poly in multipoly:\n",
      "/Users/Kristof/opt/anaconda3/envs/OSMNX/lib/python3.8/site-packages/osmnx/utils_geo.py:375: ShapelyDeprecationWarning: Iteration over multi-part geometries is deprecated and will be removed in Shapely 2.0. Use the `geoms` property to access the constituent parts of a multi-part geometry.\n",
      "  for poly in multipoly:\n"
     ]
    },
    {
     "name": "stdout",
     "output_type": "stream",
     "text": [
      "copenhagen: Successfully wrote graph car30\n"
     ]
    },
    {
     "name": "stderr",
     "output_type": "stream",
     "text": [
      "/Users/Kristof/opt/anaconda3/envs/OSMNX/lib/python3.8/site-packages/osmnx/utils_geo.py:281: ShapelyDeprecationWarning: Iteration over multi-part geometries is deprecated and will be removed in Shapely 2.0. Use the `geoms` property to access the constituent parts of a multi-part geometry.\n",
      "  for polygon in geometry:\n",
      "/Users/Kristof/opt/anaconda3/envs/OSMNX/lib/python3.8/site-packages/osmnx/utils_geo.py:375: ShapelyDeprecationWarning: Iteration over multi-part geometries is deprecated and will be removed in Shapely 2.0. Use the `geoms` property to access the constituent parts of a multi-part geometry.\n",
      "  for poly in multipoly:\n",
      "/Users/Kristof/opt/anaconda3/envs/OSMNX/lib/python3.8/site-packages/osmnx/utils_geo.py:375: ShapelyDeprecationWarning: Iteration over multi-part geometries is deprecated and will be removed in Shapely 2.0. Use the `geoms` property to access the constituent parts of a multi-part geometry.\n",
      "  for poly in multipoly:\n"
     ]
    },
    {
     "name": "stdout",
     "output_type": "stream",
     "text": [
      "copenhagen: Successfully wrote graph carall\n"
     ]
    },
    {
     "name": "stderr",
     "output_type": "stream",
     "text": [
      "/Users/Kristof/opt/anaconda3/envs/OSMNX/lib/python3.8/site-packages/osmnx/utils_geo.py:281: ShapelyDeprecationWarning: Iteration over multi-part geometries is deprecated and will be removed in Shapely 2.0. Use the `geoms` property to access the constituent parts of a multi-part geometry.\n",
      "  for polygon in geometry:\n",
      "/Users/Kristof/opt/anaconda3/envs/OSMNX/lib/python3.8/site-packages/osmnx/utils_geo.py:375: ShapelyDeprecationWarning: Iteration over multi-part geometries is deprecated and will be removed in Shapely 2.0. Use the `geoms` property to access the constituent parts of a multi-part geometry.\n",
      "  for poly in multipoly:\n",
      "/Users/Kristof/opt/anaconda3/envs/OSMNX/lib/python3.8/site-packages/osmnx/utils_geo.py:375: ShapelyDeprecationWarning: Iteration over multi-part geometries is deprecated and will be removed in Shapely 2.0. Use the `geoms` property to access the constituent parts of a multi-part geometry.\n",
      "  for poly in multipoly:\n",
      "/Users/Kristof/opt/anaconda3/envs/OSMNX/lib/python3.8/site-packages/osmnx/utils_geo.py:281: ShapelyDeprecationWarning: Iteration over multi-part geometries is deprecated and will be removed in Shapely 2.0. Use the `geoms` property to access the constituent parts of a multi-part geometry.\n",
      "  for polygon in geometry:\n",
      "/Users/Kristof/opt/anaconda3/envs/OSMNX/lib/python3.8/site-packages/osmnx/utils_geo.py:375: ShapelyDeprecationWarning: Iteration over multi-part geometries is deprecated and will be removed in Shapely 2.0. Use the `geoms` property to access the constituent parts of a multi-part geometry.\n",
      "  for poly in multipoly:\n",
      "/Users/Kristof/opt/anaconda3/envs/OSMNX/lib/python3.8/site-packages/osmnx/utils_geo.py:375: ShapelyDeprecationWarning: Iteration over multi-part geometries is deprecated and will be removed in Shapely 2.0. Use the `geoms` property to access the constituent parts of a multi-part geometry.\n",
      "  for poly in multipoly:\n",
      "/Users/Kristof/opt/anaconda3/envs/OSMNX/lib/python3.8/site-packages/osmnx/utils_geo.py:281: ShapelyDeprecationWarning: Iteration over multi-part geometries is deprecated and will be removed in Shapely 2.0. Use the `geoms` property to access the constituent parts of a multi-part geometry.\n",
      "  for polygon in geometry:\n",
      "/Users/Kristof/opt/anaconda3/envs/OSMNX/lib/python3.8/site-packages/osmnx/utils_geo.py:375: ShapelyDeprecationWarning: Iteration over multi-part geometries is deprecated and will be removed in Shapely 2.0. Use the `geoms` property to access the constituent parts of a multi-part geometry.\n",
      "  for poly in multipoly:\n",
      "/Users/Kristof/opt/anaconda3/envs/OSMNX/lib/python3.8/site-packages/osmnx/utils_geo.py:375: ShapelyDeprecationWarning: Iteration over multi-part geometries is deprecated and will be removed in Shapely 2.0. Use the `geoms` property to access the constituent parts of a multi-part geometry.\n",
      "  for poly in multipoly:\n",
      "/Users/Kristof/opt/anaconda3/envs/OSMNX/lib/python3.8/site-packages/osmnx/utils_geo.py:281: ShapelyDeprecationWarning: Iteration over multi-part geometries is deprecated and will be removed in Shapely 2.0. Use the `geoms` property to access the constituent parts of a multi-part geometry.\n",
      "  for polygon in geometry:\n",
      "/Users/Kristof/opt/anaconda3/envs/OSMNX/lib/python3.8/site-packages/osmnx/utils_geo.py:375: ShapelyDeprecationWarning: Iteration over multi-part geometries is deprecated and will be removed in Shapely 2.0. Use the `geoms` property to access the constituent parts of a multi-part geometry.\n",
      "  for poly in multipoly:\n",
      "/Users/Kristof/opt/anaconda3/envs/OSMNX/lib/python3.8/site-packages/osmnx/utils_geo.py:375: ShapelyDeprecationWarning: Iteration over multi-part geometries is deprecated and will be removed in Shapely 2.0. Use the `geoms` property to access the constituent parts of a multi-part geometry.\n",
      "  for poly in multipoly:\n",
      "/Users/Kristof/opt/anaconda3/envs/OSMNX/lib/python3.8/site-packages/osmnx/utils_geo.py:281: ShapelyDeprecationWarning: Iteration over multi-part geometries is deprecated and will be removed in Shapely 2.0. Use the `geoms` property to access the constituent parts of a multi-part geometry.\n",
      "  for polygon in geometry:\n",
      "/Users/Kristof/opt/anaconda3/envs/OSMNX/lib/python3.8/site-packages/osmnx/utils_geo.py:375: ShapelyDeprecationWarning: Iteration over multi-part geometries is deprecated and will be removed in Shapely 2.0. Use the `geoms` property to access the constituent parts of a multi-part geometry.\n",
      "  for poly in multipoly:\n",
      "/Users/Kristof/opt/anaconda3/envs/OSMNX/lib/python3.8/site-packages/osmnx/utils_geo.py:375: ShapelyDeprecationWarning: Iteration over multi-part geometries is deprecated and will be removed in Shapely 2.0. Use the `geoms` property to access the constituent parts of a multi-part geometry.\n",
      "  for poly in multipoly:\n",
      "/Users/Kristof/opt/anaconda3/envs/OSMNX/lib/python3.8/site-packages/osmnx/utils_geo.py:281: ShapelyDeprecationWarning: Iteration over multi-part geometries is deprecated and will be removed in Shapely 2.0. Use the `geoms` property to access the constituent parts of a multi-part geometry.\n",
      "  for polygon in geometry:\n",
      "/Users/Kristof/opt/anaconda3/envs/OSMNX/lib/python3.8/site-packages/osmnx/utils_geo.py:375: ShapelyDeprecationWarning: Iteration over multi-part geometries is deprecated and will be removed in Shapely 2.0. Use the `geoms` property to access the constituent parts of a multi-part geometry.\n",
      "  for poly in multipoly:\n",
      "/Users/Kristof/opt/anaconda3/envs/OSMNX/lib/python3.8/site-packages/osmnx/utils_geo.py:375: ShapelyDeprecationWarning: Iteration over multi-part geometries is deprecated and will be removed in Shapely 2.0. Use the `geoms` property to access the constituent parts of a multi-part geometry.\n",
      "  for poly in multipoly:\n",
      "/Users/Kristof/opt/anaconda3/envs/OSMNX/lib/python3.8/site-packages/osmnx/utils_geo.py:281: ShapelyDeprecationWarning: Iteration over multi-part geometries is deprecated and will be removed in Shapely 2.0. Use the `geoms` property to access the constituent parts of a multi-part geometry.\n",
      "  for polygon in geometry:\n",
      "/Users/Kristof/opt/anaconda3/envs/OSMNX/lib/python3.8/site-packages/osmnx/utils_geo.py:375: ShapelyDeprecationWarning: Iteration over multi-part geometries is deprecated and will be removed in Shapely 2.0. Use the `geoms` property to access the constituent parts of a multi-part geometry.\n",
      "  for poly in multipoly:\n",
      "/Users/Kristof/opt/anaconda3/envs/OSMNX/lib/python3.8/site-packages/osmnx/utils_geo.py:375: ShapelyDeprecationWarning: Iteration over multi-part geometries is deprecated and will be removed in Shapely 2.0. Use the `geoms` property to access the constituent parts of a multi-part geometry.\n",
      "  for poly in multipoly:\n",
      "/Users/Kristof/opt/anaconda3/envs/OSMNX/lib/python3.8/site-packages/osmnx/utils_geo.py:281: ShapelyDeprecationWarning: Iteration over multi-part geometries is deprecated and will be removed in Shapely 2.0. Use the `geoms` property to access the constituent parts of a multi-part geometry.\n",
      "  for polygon in geometry:\n",
      "/Users/Kristof/opt/anaconda3/envs/OSMNX/lib/python3.8/site-packages/osmnx/utils_geo.py:375: ShapelyDeprecationWarning: Iteration over multi-part geometries is deprecated and will be removed in Shapely 2.0. Use the `geoms` property to access the constituent parts of a multi-part geometry.\n",
      "  for poly in multipoly:\n",
      "/Users/Kristof/opt/anaconda3/envs/OSMNX/lib/python3.8/site-packages/osmnx/utils_geo.py:375: ShapelyDeprecationWarning: Iteration over multi-part geometries is deprecated and will be removed in Shapely 2.0. Use the `geoms` property to access the constituent parts of a multi-part geometry.\n",
      "  for poly in multipoly:\n"
     ]
    },
    {
     "name": "stdout",
     "output_type": "stream",
     "text": [
      "copenhagen: Successfully wrote graph biketrack\n",
      "copenhagen: Successfully wrote graph bikeable\n",
      "copenhagen: Successfully wrote graph biketrackcarall\n",
      "['car30', 'carall', 'bike_cyclewaytrack', 'bike_highwaycycleway', 'bike_designatedpath', 'bike_cyclewayrighttrack', 'bike_cyclewaylefttrack', 'bike_cyclestreet', 'bike_bicycleroad', 'bike_livingstreet', 'biketrack', 'bikeable', 'biketrackcarall']\n"
     ]
    }
   ],
   "source": [
    "for placeid, placeinfo in tqdm(cities.items(), desc = \"Cities\"):\n",
    "    if placeinfo[\"nominatimstring\"] != '':\n",
    "        location = ox.geocoder.geocode_to_gdf(placeinfo[\"nominatimstring\"])\n",
    "        location = fill_holes(extract_relevant_polygon(placeid, shapely.geometry.shape(location['geometry'][0])))\n",
    "        if debug: # Draw location polygons and their holes\n",
    "            try:\n",
    "                color = cm.rainbow(np.linspace(0,1,len(location)))\n",
    "                for poly,c in zip(location, color):\n",
    "                    plt.plot(*poly.exterior.xy, c = c)\n",
    "                    for intr in poly.interiors:\n",
    "                        plt.plot(*intr.xy, c = \"red\")\n",
    "            except:\n",
    "                plt.plot(*location.exterior.xy)\n",
    "            plt.show()\n",
    "    else:\n",
    "        # https://gis.stackexchange.com/questions/113799/how-to-read-a-shapefile-in-python\n",
    "        shp = fiona.open(PATH[\"data\"] + placeid + \"/\" + placeid + \".shp\")\n",
    "        first = next(iter(shp))\n",
    "        location = shapely.geometry.shape(first['geometry'])\n",
    "    \n",
    "    Gs = {}\n",
    "    for parameterid, parameterinfo in tqdm(osmnxparameters.items(), desc = \"Networks\", leave = False):\n",
    "        for i in range(0,10): # retry\n",
    "            try:\n",
    "                Gs[parameterid] = ox.graph_from_polygon(location, \n",
    "                                       network_type = parameterinfo['network_type'],\n",
    "                                       custom_filter = (parameterinfo['custom_filter']),\n",
    "                                       retain_all = parameterinfo['retain_all'],\n",
    "                                       simplify = False)\n",
    "            except ValueError:\n",
    "                Gs[parameterid] = nx.empty_graph(create_using = nx.MultiDiGraph)\n",
    "                print(placeid + \": No OSM data for graph \" + parameterid + \". Created empty graph.\")\n",
    "                break\n",
    "            except ConnectionError or UnboundLocalError:\n",
    "                print(\"ConnectionError or UnboundLocalError. Retrying.\")\n",
    "                continue\n",
    "            except:\n",
    "                print(\"Other error. Retrying.\")\n",
    "                continue\n",
    "            break\n",
    "        if parameterinfo['export']: ox_to_csv(Gs[parameterid], PATH[\"data\"] + placeid + \"/\", placeid, parameterid)\n",
    "\n",
    "    # Compose special cases biketrack, bikeable, biketrackcarall\n",
    "    parameterid = 'biketrack'\n",
    "    Gs[parameterid] = nx.compose_all([Gs['bike_cyclewaylefttrack'], Gs['bike_cyclewaytrack'], Gs['bike_highwaycycleway'], Gs['bike_bicycleroad'], Gs['bike_cyclewayrighttrack'], Gs['bike_designatedpath'], Gs['bike_cyclestreet']])\n",
    "    ox_to_csv(Gs[parameterid], PATH[\"data\"] + placeid + \"/\", placeid, parameterid)\n",
    "    \n",
    "    parameterid = 'bikeable'\n",
    "    Gs[parameterid] = nx.compose_all([Gs['biketrack'], Gs['car30'], Gs['bike_livingstreet']]) \n",
    "    ox_to_csv(Gs[parameterid], PATH[\"data\"] + placeid + \"/\", placeid, parameterid)\n",
    "    \n",
    "    parameterid = 'biketrackcarall'\n",
    "    Gs[parameterid] = nx.compose(Gs['biketrack'], Gs['carall']) # Order is important\n",
    "    ox_to_csv(Gs[parameterid], PATH[\"data\"] + placeid + \"/\", placeid, parameterid)\n",
    "    \n",
    "    print([k for k in Gs ])\n",
    "    \n",
    "    for parameterid in networktypes[:-2]:\n",
    "        #G_temp = nx.MultiDiGraph(ox.utils_graph.get_digraph(ox.simplify_graph(Gs[parameterid]))) # This doesnt work - cant get rid of multiedges\n",
    "        ox_to_csv(ox.simplify_graph(Gs[parameterid]), PATH[\"data\"] + placeid + \"/\", placeid, parameterid, \"_simplified\")"
   ]
  },
  {
   "cell_type": "code",
   "execution_count": 234,
   "metadata": {},
   "outputs": [],
   "source": [
    "# Compress all data files (will not do anything if files were compressed already)\n",
    "for folder, subfolders, files in os.walk(PATH[\"data\"]):\n",
    "    for file in files:\n",
    "        if file.endswith('es.csv'):\n",
    "            compress_file(folder + \"/\", file.split(\".\")[0])"
   ]
  },
  {
   "cell_type": "code",
   "execution_count": null,
   "metadata": {},
   "outputs": [],
   "source": [
    "ox.save_graphml(Gs['carall'] , \"../../bikenwgrowth_external/data/copenhagen/bikedata/G_carall_graphml.graphml\")\n",
    "\n",
    "with open('../../bikenwgrowth_external/data/copenhagen/bikedata/networks.pkl', 'wb') as f:\n",
    "    pickle.dump(Gs, f)"
   ]
  },
  {
   "cell_type": "code",
   "execution_count": null,
   "metadata": {},
   "outputs": [],
   "source": []
  },
  {
   "cell_type": "code",
   "execution_count": null,
   "metadata": {},
   "outputs": [],
   "source": [
    "Audio(sound_file, autoplay=True)"
   ]
  }
 ],
 "metadata": {
  "kernelspec": {
   "display_name": "OSMNX",
   "language": "python",
   "name": "osmnx"
  },
  "language_info": {
   "codemirror_mode": {
    "name": "ipython",
    "version": 3
   },
   "file_extension": ".py",
   "mimetype": "text/x-python",
   "name": "python",
   "nbconvert_exporter": "python",
   "pygments_lexer": "ipython3",
   "version": "3.8.2"
  }
 },
 "nbformat": 4,
 "nbformat_minor": 2
}
