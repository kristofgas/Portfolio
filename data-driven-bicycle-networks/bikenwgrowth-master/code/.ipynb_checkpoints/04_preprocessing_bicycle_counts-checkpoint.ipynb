{
 "cells": [
  {
   "cell_type": "markdown",
   "id": "cf1667c8",
   "metadata": {},
   "source": [
    "# Step 4 - Preprocessing bicycle count data\n",
    "## Project: Data-driven bicycle networks"
   ]
  },
  {
   "cell_type": "markdown",
   "id": "ee3a2842",
   "metadata": {},
   "source": [
    "This notebook is embedding bicycle counts onto the street network of Copenhagen"
   ]
  },
  {
   "cell_type": "markdown",
   "id": "cb341db2",
   "metadata": {},
   "source": [
    "## Preliminaries"
   ]
  },
  {
   "cell_type": "markdown",
   "id": "ccf0e815",
   "metadata": {},
   "source": [
    "### Parameters"
   ]
  },
  {
   "cell_type": "code",
   "execution_count": 1,
   "id": "98fce5e6",
   "metadata": {},
   "outputs": [
    {
     "name": "stdout",
     "output_type": "stream",
     "text": [
      "Loaded parameters.\n",
      "\n"
     ]
    }
   ],
   "source": [
    "debug = False # If True, will produce plots and/or verbose output to double-check\n",
    "%run -i \"../parameters/parameters.py\""
   ]
  },
  {
   "cell_type": "markdown",
   "id": "d2cc3807",
   "metadata": {},
   "source": [
    "### Setup"
   ]
  },
  {
   "cell_type": "code",
   "execution_count": null,
   "id": "fc7a95f4",
   "metadata": {},
   "outputs": [],
   "source": [
    "%run -i path.py\n",
    "#%run -i setup.py\n",
    "%run -i setupCPH.py\n",
    "\n",
    "%load_ext watermark\n",
    "%watermark -n -v -m -g -iv"
   ]
  },
  {
   "cell_type": "markdown",
   "id": "7dfdef22",
   "metadata": {},
   "source": [
    "### Functions"
   ]
  },
  {
   "cell_type": "code",
   "execution_count": 3,
   "id": "23ced0e9",
   "metadata": {},
   "outputs": [
    {
     "name": "stdout",
     "output_type": "stream",
     "text": [
      "Loaded functions.\n",
      "\n"
     ]
    }
   ],
   "source": [
    "%run -i functions.py"
   ]
  },
  {
   "cell_type": "markdown",
   "id": "3e85412b",
   "metadata": {},
   "source": [
    "### Load street network graph from Copenhagen"
   ]
  },
  {
   "cell_type": "code",
   "execution_count": null,
   "id": "1af55f0b",
   "metadata": {},
   "outputs": [],
   "source": [
    "G_carall = ox.load_graphml('../../bikenwgrowth_external/data/copenhagen/bikedata/G_carall_graphml.graphml')"
   ]
  },
  {
   "cell_type": "markdown",
   "id": "258ef2fc",
   "metadata": {},
   "source": [
    "## Embedding bicycle count data into the copenhagen street network graph"
   ]
  },
  {
   "cell_type": "markdown",
   "id": "1d67e23e",
   "metadata": {},
   "source": [
    "### Load bicycle counts and assign to nearest edges in the Copenhagen street network"
   ]
  },
  {
   "cell_type": "code",
   "execution_count": null,
   "id": "8a7f5264",
   "metadata": {},
   "outputs": [],
   "source": [
    "count_df = pd.read_csv(\"../../bikenwgrowth_external/data/copenhagen/bikedata/bicycle_counts.csv\")\n",
    "count_df = count_df[count_df.year ==2019]\n",
    "\n",
    "bcount_unassigned = count_df['bicycle_count'].mean()\n",
    "\n",
    "nx.set_edge_attributes(G_carall, 0.0, 'bcount')\n",
    "\n",
    "for i in range(len(count_df)):\n",
    "    ne = ox.distance.get_nearest_edge(G_carall, [count_df.iloc[i].lat,count_df.iloc[i].long])\n",
    "    nx.set_edge_attributes(G_carall, {ne: {'bcount': count_df.iloc[i].bicycle_count }})\n",
    "    \n",
    "bcount_dict = nx.get_edge_attributes(G_carall, \"bcount\")\n",
    "\n",
    "ox_to_csv(G_carall, PATH[\"data\"] + 'copenhagen' + \"/\", 'copenhagen', 'carall')\n",
    "ox_to_csv(ox.simplify_graph(G_carall), PATH[\"data\"] + 'copenhagen' + \"/\", 'copenhagen', 'carall', \"_simplified\")"
   ]
  },
  {
   "cell_type": "markdown",
   "id": "a87e362e",
   "metadata": {},
   "source": [
    "### Apply generalisations for missing edge weights"
   ]
  },
  {
   "cell_type": "code",
   "execution_count": null,
   "id": "a59996b8",
   "metadata": {},
   "outputs": [],
   "source": [
    "with zipfile.ZipFile(\"../../bikenwgrowth_external/data/copenhagen/copenhagen_carall_edges.zip\", 'r') as zip_ref:\n",
    "    zip_ref.extractall(\"../../bikenwgrowth_external/data/copenhagen/\")\n",
    "\n",
    "edges = pd.read_csv(\"../../bikenwgrowth_external/data/copenhagen/copenhagen_carall_edges.csv\")\n",
    "#We take only assigned edges\n",
    "edges1 = edges[edges.bcount !=0.0]\n",
    "#we remove unnecessery data\n",
    "edges2 = edges1\n",
    "#we apply the mean of bikecounts for all assigned streets, by grouping on the street name and calculating the mean.\n",
    "edges3 = edges2.groupby('name')['bcount'].mean().to_frame()\n",
    "#renaming this column\n",
    "edges3 = edges3.rename(columns={\"bcount\": \"mean_group_bcount\"})\n",
    "#the initial edges are joined with the new generalised counts\n",
    "result = pd.merge(edges,edges3,on='name',how = 'left')\n",
    "result.to_csv(\"../../bikenwgrowth_external/data/copenhagen/copenhagen_carall_edges.csv\")\n",
    "compress_file(\"../../bikenwgrowth_external/data/copenhagen/\",\"copenhagen_carall_edges\")\n",
    "\n",
    "result2 = result\n",
    "\n",
    "#we apply the 'bcount_attr' the the result2 dataframe, representing all edges in the carall network.\n",
    "# for edges that 'still' do not have a bikecount, a standard value is assigned 'bcount_attr_unassigned',\n",
    "# otherwise the new mean fraction of bikecounts for each edge, is multiplied with the length of this edge.\n",
    "# For now we lost the original fraction of bikecounts for assigned edges, but we will add them back in next step.\n",
    "for i in range(len(result2)):\n",
    "    num = result2['mean_group_bcount'].iloc[i]\n",
    "    #if num is NaN\n",
    "    if num != num:\n",
    "        result2['mean_group_bcount'].iloc[i]= bcount_unassigned\n",
    "    else:\n",
    "        result2['mean_group_bcount'].iloc[i]= num \n",
    "\n",
    "# The new results are added to the carall network,\n",
    "i=-1\n",
    "for e in G_carall.edges():\n",
    "    i+=1\n",
    "    a,b=e\n",
    "    old_bcount = G_carall.get_edge_data(a,b,0)['bcount']\n",
    "    # if the edge is initially unassigned in the network we check if a generalised mean value of the whole street, \n",
    "    #belonging to this street exist, otherwise a standard value is given. If an edge is initially assigned a bikecount\n",
    "    # we assign it the bcount_attr again, represented as edgelength multiplied by the fraction of bikecounts.\n",
    "    if old_bcount ==0.0:\n",
    "        if  result2['mean_group_bcount'].iloc[i] == bcount_unassigned:\n",
    "            nx.set_edge_attributes(G_carall, {(a,b,0): {\"bcount\": bcount_unassigned }})\n",
    "        else:\n",
    "            mean_group_count = result2['mean_group_bcount'].iloc[i]\n",
    "            nx.set_edge_attributes(G_carall, {(a,b,0): {\"bcount\": mean_group_count }})\n",
    "    else:\n",
    "        nx.set_edge_attributes(G_carall, {(a,b,0): {\"bcount\": old_bcount }})\n",
    "\n",
    "bcount_dict = nx.get_edge_attributes(G_carall, \"bcount\")\n",
    "bcount_mean = statistics.mean([float(k) for k in bcount_dict.values()])\n",
    "\n",
    "with open('../../bikenwgrowth_external/data/copenhagen/bikedata/mean_bcount.pkl', 'wb') as f:\n",
    "    pickle.dump(bcount_mean, f)\n",
    "\n",
    "\n",
    "ox_to_csv(G_carall, PATH[\"data\"] + 'copenhagen' + \"/\", 'copenhagen', 'carall')\n",
    "ox_to_csv(ox.simplify_graph(G_carall), PATH[\"data\"] + 'copenhagen' + \"/\", 'copenhagen', 'carall', \"_simplified\")\n",
    "ox.save_graphml(G_carall, \"../../bikenwgrowth_external/data/copenhagen/bikedata/G_carall_graphml.graphml\")\n",
    "\n",
    "with open('../../bikenwgrowth_external/data/copenhagen/bikedata/edges_dict_bcount.pkl', 'wb') as f:\n",
    "    pickle.dump(bcount_dict, f)"
   ]
  }
 ],
 "metadata": {
  "kernelspec": {
   "display_name": "OSMNX",
   "language": "python",
   "name": "osmnx"
  },
  "language_info": {
   "codemirror_mode": {
    "name": "ipython",
    "version": 3
   },
   "file_extension": ".py",
   "mimetype": "text/x-python",
   "name": "python",
   "nbconvert_exporter": "python",
   "pygments_lexer": "ipython3",
   "version": "3.8.2"
  }
 },
 "nbformat": 4,
 "nbformat_minor": 5
}
