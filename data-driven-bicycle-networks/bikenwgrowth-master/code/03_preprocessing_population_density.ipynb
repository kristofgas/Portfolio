{
 "cells": [
  {
   "cell_type": "markdown",
   "id": "5af2ab89",
   "metadata": {},
   "source": [
    "# Step 3 - Preprocessing population density data\n",
    "## Project: Data-driven bicycle networks"
   ]
  },
  {
   "cell_type": "markdown",
   "id": "6be550e0",
   "metadata": {},
   "source": [
    "This notebook is embedding population density counts onto the street network of Copenhagen"
   ]
  },
  {
   "cell_type": "markdown",
   "id": "3e50d115",
   "metadata": {},
   "source": [
    "## Preliminaries"
   ]
  },
  {
   "cell_type": "markdown",
   "id": "19fecbd4",
   "metadata": {},
   "source": [
    "### Parameters"
   ]
  },
  {
   "cell_type": "code",
   "execution_count": 1,
   "id": "27df045f",
   "metadata": {},
   "outputs": [
    {
     "name": "stdout",
     "output_type": "stream",
     "text": [
      "Loaded parameters.\n",
      "\n"
     ]
    }
   ],
   "source": [
    "debug = False # If True, will produce plots and/or verbose output to double-check\n",
    "%run -i \"../parameters/parameters.py\""
   ]
  },
  {
   "cell_type": "markdown",
   "id": "36524204",
   "metadata": {},
   "source": [
    "### Setup"
   ]
  },
  {
   "cell_type": "code",
   "execution_count": null,
   "id": "6148bdc2",
   "metadata": {},
   "outputs": [],
   "source": [
    "%run -i path.py\n",
    "#%run -i setup.py\n",
    "%run -i setupCPH.py\n",
    "\n",
    "%load_ext watermark\n",
    "%watermark -n -v -m -g -iv"
   ]
  },
  {
   "cell_type": "markdown",
   "id": "c011f003",
   "metadata": {},
   "source": [
    "### Functions"
   ]
  },
  {
   "cell_type": "code",
   "execution_count": 3,
   "id": "481c7da2",
   "metadata": {},
   "outputs": [
    {
     "name": "stdout",
     "output_type": "stream",
     "text": [
      "Loaded functions.\n",
      "\n"
     ]
    }
   ],
   "source": [
    "%run -i functions.py"
   ]
  },
  {
   "cell_type": "markdown",
   "id": "7a3f890c",
   "metadata": {},
   "source": [
    "### Load street network graph from Copenhagen"
   ]
  },
  {
   "cell_type": "code",
   "execution_count": null,
   "id": "f621a67e",
   "metadata": {},
   "outputs": [],
   "source": [
    "G_carall = ox.load_graphml('../../bikenwgrowth_external/data/copenhagen/bikedata/G_carall_graphml.graphml')"
   ]
  },
  {
   "cell_type": "code",
   "execution_count": null,
   "id": "3484e278",
   "metadata": {},
   "outputs": [],
   "source": [
    "with open(\"../../bikenwgrowth_external/data/copenhagen/bikedata/networks.pkl\", 'rb') as f:\n",
    "    Gs = pickle.load(f)"
   ]
  },
  {
   "cell_type": "markdown",
   "id": "88bbbfe4",
   "metadata": {},
   "source": [
    "## Embedding population density data into the copenhagen street network graph"
   ]
  },
  {
   "cell_type": "markdown",
   "id": "98729cdc",
   "metadata": {},
   "source": [
    "### Load and filter data"
   ]
  },
  {
   "cell_type": "code",
   "execution_count": null,
   "id": "919f7bfa",
   "metadata": {},
   "outputs": [],
   "source": [
    "pop_den_df = pd.read_csv(\"../../bikenwgrowth_external/data/copenhagen/bikedata/dnk_pd_2019_1km_ASCII_XYZ.csv\")\n",
    "pop_den_df.rename(columns = {'X':'long', 'Y':'lat','Z':'pop_den'}, inplace = True)\n",
    "\n",
    "#pop_den_df holds population densities for whole Denmark, next we filter out only the ones from Copenhagen\n",
    "CPH = []\n",
    "\n",
    "for i in range(len(pop_den_df)):\n",
    "    n = ox.distance.get_nearest_node(G_carall, [pop_den_df.iloc[i].lat,pop_den_df.iloc[i].long])\n",
    "    if haversine([pop_den_df.iloc[i].lat,pop_den_df.iloc[i].long], (G_carall.nodes[n][\"y\"], G_carall.nodes[n][\"x\"]), unit=\"m\") <= snapthreshold:\n",
    "        CPH.append(i) \n",
    "        \n",
    "pop_den_df = pd.DataFrame([pop_den_df.iloc[i] for i in CPH])"
   ]
  },
  {
   "cell_type": "markdown",
   "id": "e1dd4ef9",
   "metadata": {},
   "source": [
    "### Assign edges in network graphs the value from the nearest population density coordinate"
   ]
  },
  {
   "cell_type": "code",
   "execution_count": null,
   "id": "2bb0b1b5",
   "metadata": {},
   "outputs": [],
   "source": [
    "networktypes = ['biketrack',\n",
    " 'carall',\n",
    " 'bikeable',\n",
    " 'biketrackcarall']\n",
    "\n",
    "for networktype in networktypes:\n",
    "    print(networktype)\n",
    "    i=0\n",
    "    nDict2 = {}\n",
    "    for i in range(len(pop_den_df)):\n",
    "        n = ox.distance.get_nearest_node(Gs[networktype], [pop_den_df.iloc[i].lat,pop_den_df.iloc[i].long])\n",
    "        if haversine([pop_den_df.iloc[i].lat,pop_den_df.iloc[i].long], (Gs[networktype].nodes[n][\"y\"], Gs[networktype].nodes[n][\"x\"]), unit=\"m\") <= snapthreshold:\n",
    "            nDict2 = {**nDict2, n: pop_den_df.iloc[i].pop_den}\n",
    "            i+=1\n",
    "            print(i) \n",
    "            \n",
    "    nx.set_edge_attributes(Gs[networktype], 0.0, 'pop_den')\n",
    "    \n",
    "    for e in Gs[networktype].edges():\n",
    "        a,b=e\n",
    "        lat = Gs[networktype].nodes[a][\"y\"]\n",
    "        long = Gs[networktype].nodes[a][\"x\"]\n",
    "        eDistDict2 = {}\n",
    "    \n",
    "        for n in nDict2:\n",
    "            y = Gs[networktype].nodes[n][\"y\"]\n",
    "            x = Gs[networktype].nodes[n][\"x\"]\n",
    "            dist = haversine([lat,long], (y,x), unit=\"m\")\n",
    "            eDistDict2 = {**eDistDict2, dist:nDict2[n]}\n",
    "\n",
    "        minDist2 = min(eDistDict2.keys()) \n",
    "        pop_den = eDistDict2[minDist2]\n",
    "        \n",
    "        nx.set_edge_attributes(Gs[networktype], {(a,b,0): {\"pop_den\": pop_den }})\n",
    "        \n",
    "    ox_to_csv(Gs[networktype], PATH[\"data\"] + 'copenhagen' + \"/\", 'copenhagen', networktype)\n",
    "    ox_to_csv(ox.simplify_graph(Gs[networktype]), PATH[\"data\"] + 'copenhagen' + \"/\", 'copenhagen', networktype, \"_simplified\")\n",
    "    ox.save_graphml(Gs[networktype], \"../../bikenwgrowth_external/data/copenhagen/bikedata/G_\"+networktype+\"_graphml.graphml\")\n",
    "    "
   ]
  }
 ],
 "metadata": {
  "kernelspec": {
   "display_name": "OSMNX",
   "language": "python",
   "name": "osmnx"
  },
  "language_info": {
   "codemirror_mode": {
    "name": "ipython",
    "version": 3
   },
   "file_extension": ".py",
   "mimetype": "text/x-python",
   "name": "python",
   "nbconvert_exporter": "python",
   "pygments_lexer": "ipython3",
   "version": "3.8.2"
  }
 },
 "nbformat": 4,
 "nbformat_minor": 5
}
